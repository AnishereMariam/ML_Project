{
 "cells": [
  {
   "cell_type": "code",
   "execution_count": 20,
   "id": "ee61b9f5-3118-4dcd-8faf-c2477d059424",
   "metadata": {},
   "outputs": [
    {
     "name": "stdout",
     "output_type": "stream",
     "text": [
      "['pandas', 'seaborn', 'numpy']\n"
     ]
    }
   ],
   "source": [
    "#requirements = []\n",
    "with open('requirements.txt') as file:\n",
    "    requirements =  file.readlines()\n",
    "    requirements = [req.replace(\"\\n\", \"\") for req in requirements]\n",
    "\n",
    "    if \"-e .\" in requirements:\n",
    "        requirements.remove(\"-e .\")\n",
    "    print(requirements)"
   ]
  },
  {
   "cell_type": "code",
   "execution_count": 21,
   "id": "5cf2be90-347c-4d07-90ee-2357f460cdd2",
   "metadata": {},
   "outputs": [],
   "source": [
    "def get_requirements(file_path) -> list:\n",
    "    #requirements = []\n",
    "    with open(file_path) as file:\n",
    "        requirements = file.readlines()\n",
    "        requirements = [req.replace(\"\\n\", \"\") for req in requirements]\n",
    "\n",
    "        if \"-e .\" in requirements:\n",
    "            requirements.remove(\"-e .\")\n",
    "    return requirements"
   ]
  },
  {
   "cell_type": "code",
   "execution_count": 22,
   "id": "be7f66f8-4bc6-46ae-b548-98232b9c7ee2",
   "metadata": {},
   "outputs": [
    {
     "data": {
      "text/plain": [
       "['pandas', 'seaborn', 'numpy']"
      ]
     },
     "execution_count": 22,
     "metadata": {},
     "output_type": "execute_result"
    }
   ],
   "source": [
    "get_requirements('requirements.txt')"
   ]
  },
  {
   "cell_type": "code",
   "execution_count": 23,
   "id": "34924eef-43b2-42b4-a0dc-5d7ce4ae6d46",
   "metadata": {},
   "outputs": [],
   "source": [
    "from setuptools import find_packages, setup"
   ]
  },
  {
   "cell_type": "code",
   "execution_count": null,
   "id": "6f718eaf-9333-4727-8dae-dff46d7d509f",
   "metadata": {},
   "outputs": [],
   "source": []
  }
 ],
 "metadata": {
  "kernelspec": {
   "display_name": "Python 3 (ipykernel)",
   "language": "python",
   "name": "python3"
  },
  "language_info": {
   "codemirror_mode": {
    "name": "ipython",
    "version": 3
   },
   "file_extension": ".py",
   "mimetype": "text/x-python",
   "name": "python",
   "nbconvert_exporter": "python",
   "pygments_lexer": "ipython3",
   "version": "3.12.8"
  }
 },
 "nbformat": 4,
 "nbformat_minor": 5
}
